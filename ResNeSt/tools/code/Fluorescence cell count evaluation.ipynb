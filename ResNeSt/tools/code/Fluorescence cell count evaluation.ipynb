{
 "cells": [
  {
   "cell_type": "markdown",
   "metadata": {},
   "source": [
    "# LIVECell Fluorescence cell count benchmark\n",
    "\n",
    "This notebook contains a reference implementation of the evaluation of the fluorescence cell count benchmark in \"LIVECell - A large-scale dataset for label-free live cell segmentation\" by Edlund et. al. Given data of predicted and fluorescence-based cell count, the evaluation consists of two parts:\n",
    "\n",
    "1. R2 between predicted and fluorescence-based counts in images with fewer than 1600 cells per image (roughly corresponding to full confluency).\n",
    "2. The point which the linear relationship breaks. This test works by comparing the residuals of a linear vs. a non-linear regression model of the fluorescence-based counts as a function of the predicted ones."
   ]
  },
  {
   "cell_type": "code",
   "execution_count": 1,
   "metadata": {},
   "outputs": [],
   "source": [
    "import pandas as pd\n",
    "import numpy as np\n",
    "import ipywidgets\n",
    "from IPython.core.display import display\n",
    "import matplotlib.pyplot as plt\n",
    "\n",
    "from sklearn.metrics import r2_score\n",
    "from scipy import stats\n",
    "from sklearn.linear_model import LinearRegression\n",
    "from sklearn.neighbors import KNeighborsRegressor"
   ]
  },
  {
   "cell_type": "markdown",
   "metadata": {},
   "source": [
    "First we define our functions.\n",
    "\n",
    "1. `get_counts_from_excel_file` reads the counts from the specific Excel-file format we used for the manuscripts. This is preferrably replaced by whatever format you like.\n",
    "2. `linearity_cutoff_test` contains the test for when linearity breaks."
   ]
  },
  {
   "cell_type": "code",
   "execution_count": 2,
   "metadata": {},
   "outputs": [],
   "source": [
    "def get_counts_from_excel_file(sheet_name, excel_file):\n",
    "    \"\"\" Load data from Excel-file and flatten to 1D-arrays. \"\"\"\n",
    "    \n",
    "    sheet = excel_file.parse(sheet_name, index_col=1)\n",
    "    sheet = sheet.rename(columns={sheet.columns[0]: 'time'})\n",
    "\n",
    "    nc_cols = [col for col in sheet.columns if 'Image' in col]\n",
    "    model_cols = [col for col in sheet.columns if not col in nc_cols and col != 'time']\n",
    "\n",
    "    nc_flat = sheet[nc_cols].values.flatten()\n",
    "    model_flat = sheet[model_cols].values.flatten()\n",
    "\n",
    "    nc_is_nan = np.isnan(nc_flat)\n",
    "    model_is_nan = np.isnan(model_flat)\n",
    "    any_is_nan = nc_is_nan | model_is_nan\n",
    "\n",
    "    nc_flat = nc_flat[~any_is_nan]\n",
    "    model_flat = model_flat[~any_is_nan]\n",
    "    return nc_flat, model_flat\n",
    "\n",
    "\n",
    "def linearity_cutoff_test(\n",
    "    fluorescence_counts,\n",
    "    prediction_counts,\n",
    "    start_threshold = 500,\n",
    "    increment = 1,\n",
    "    p_cutoff = 1e-5, \n",
    "    n_neighbors=5\n",
    "):\n",
    "    \"\"\" Test when linearity breaks. \n",
    "    \n",
    "    While the maximum number of objects per image is increased incrementally, \n",
    "    the fluorescence-based counts are regressed as a function of the predicted\n",
    "    counts using linear regression and KNN-regression (default 5 neighbors). \n",
    "    \n",
    "    Then the null hypothesis of equally sized residuals is tested using a \n",
    "    Levene's test. If the null hypothesis is rejected, the fit is considered\n",
    "    non-linear. \n",
    "    \n",
    "    Parameters\n",
    "    ----------\n",
    "    fluorescence_counts : array\n",
    "        1D-array of ints containing fluorescence-based counts\n",
    "    prediction_counts : array\n",
    "        1D-array ints containing predicted counts\n",
    "    start_threshold : int\n",
    "        Maximum number of objects per image to start incrementing from (default 500)\n",
    "    increment : int\n",
    "        Number of objects per image to increment with (default 1)\n",
    "    p_cutoff : float\n",
    "        p-value cutoff to reject null hypothesis (default 1E-5)\n",
    "    n_neighbors : int\n",
    "        Number of neighbors in KNN-regression.\n",
    "        \n",
    "    Returns\n",
    "    -------\n",
    "    int\n",
    "        Number of objects per image where null hypothesis was first rejected.\n",
    "    \"\"\"\n",
    "\n",
    "    for test_threshold in range(start_threshold, int(nc_flat.max()), increment):\n",
    "        below_test_threshold = fluorescence_counts < test_threshold\n",
    "        y = fluorescence_counts[below_test_threshold]\n",
    "\n",
    "        prediction_counts_2d = np.atleast_2d(prediction_counts[below_test_threshold]).T\n",
    "        linear_model = LinearRegression().fit(prediction_counts_2d, y)\n",
    "        knn_model = KNeighborsRegressor(n_neighbors).fit(prediction_counts_2d, y)\n",
    "        linear_pred_nc = linear_model.predict(prediction_counts_2d)\n",
    "        knn_pred_nc = knn_model.predict(prediction_counts_2d)\n",
    "\n",
    "        knn_residal = (y - knn_pred_nc)\n",
    "        linear_residual = (y - linear_pred_nc)\n",
    "        test_result = stats.levene(knn_residal, linear_residual)\n",
    "        if test_result.pvalue < p_cutoff:\n",
    "            break\n",
    "            \n",
    "    return test_threshold"
   ]
  },
  {
   "cell_type": "markdown",
   "metadata": {},
   "source": [
    "## Pick file to analyze."
   ]
  },
  {
   "cell_type": "code",
   "execution_count": 3,
   "metadata": {},
   "outputs": [
    {
     "data": {
      "application/vnd.jupyter.widget-view+json": {
       "model_id": "596c505bc775437995efc34f96ed561d",
       "version_major": 2,
       "version_minor": 0
      },
      "text/plain": [
       "FileUpload(value={}, accept='.xlsx', description='Upload')"
      ]
     },
     "metadata": {},
     "output_type": "display_data"
    }
   ],
   "source": [
    "uploader = ipywidgets.FileUpload(accept='.xlsx', multiple=False)\n",
    "display(uploader)"
   ]
  },
  {
   "cell_type": "markdown",
   "metadata": {},
   "source": [
    "## Run tests"
   ]
  },
  {
   "cell_type": "code",
   "execution_count": 4,
   "metadata": {},
   "outputs": [
    {
     "name": "stdout",
     "output_type": "stream",
     "text": [
      "A549 - Anchor-free model\n",
      "R2 below 1600 objects = 0.980\n",
      "Linearity break, n objects = 2031\n",
      "\n",
      "A549 - Anchor-based model\n",
      "R2 below 1600 objects = 0.985\n",
      "Linearity break, n objects = 1403\n",
      "\n",
      "A172 - Anchor-free model\n",
      "R2 below 1600 objects = 0.942\n",
      "Linearity break, n objects = 1948\n",
      "\n",
      "A172 - Anchor-based model\n",
      "R2 below 1600 objects = 0.977\n",
      "Linearity break, n objects = 1328\n",
      "\n"
     ]
    }
   ],
   "source": [
    "if not uploader.value:\n",
    "    print('Pick file using file-picker first')\n",
    "else:\n",
    "    first_key = next(key for key in uploader.value)\n",
    "    excel_file = pd.ExcelFile(uploader.value[first_key]['content'], engine='openpyxl')\n",
    "    sheet_names = excel_file.sheet_names\n",
    "\n",
    "    threshold = 1600\n",
    "\n",
    "    for sheet_name in sheet_names:\n",
    "        cell_type, model_name = sheet_name.split('-', 1)\n",
    "        print(f'{cell_type} - {model_name} model')\n",
    "        nc_flat, model_flat = get_counts_from_excel_file(sheet_name, excel_file)\n",
    "\n",
    "        below_threshold = nc_flat < threshold\n",
    "        r2 = r2_score(nc_flat[below_threshold], model_flat[below_threshold])\n",
    "        linearity_cutoff = linearity_cutoff_test(nc_flat, model_flat)\n",
    "        print(f'R2 below {threshold} objects = {r2:.3f}')\n",
    "        print(f'Linearity break, n objects = {linearity_cutoff}')\n",
    "        print()"
   ]
  }
 ],
 "metadata": {
  "kernelspec": {
   "display_name": "Python 3",
   "language": "python",
   "name": "python3"
  },
  "language_info": {
   "codemirror_mode": {
    "name": "ipython",
    "version": 3
   },
   "file_extension": ".py",
   "mimetype": "text/x-python",
   "name": "python",
   "nbconvert_exporter": "python",
   "pygments_lexer": "ipython3",
   "version": "3.6.7"
  }
 },
 "nbformat": 4,
 "nbformat_minor": 2
}
